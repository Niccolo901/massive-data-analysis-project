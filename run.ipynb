{
 "cells": [
  {
   "cell_type": "code",
   "id": "initial_id",
   "metadata": {
    "collapsed": true,
    "ExecuteTime": {
     "end_time": "2025-04-10T16:01:12.144634Z",
     "start_time": "2025-04-10T15:59:34.973749Z"
    }
   },
   "source": [
    "# Importare il modulo per il download del dataset\n",
    "import dataset_download\n",
    "\n",
    "# Eseguire il codice per scaricare il dataset\n",
    "# Il file `dataset_download.py` gestisce il download e l'estrazione\n",
    "print(\"Avvio del download del dataset...\")\n",
    "try:\n",
    "    # Il modulo eseguirà automaticamente il download e l'estrazione\n",
    "    print(\"Dataset scaricato ed estratto con successo.\")\n",
    "except Exception as e:\n",
    "    print(f\"Errore durante il download del dataset: {e}\")"
   ],
   "outputs": [
    {
     "name": "stdout",
     "output_type": "stream",
     "text": [
      "Downloading dataset from Kaggle...\n",
      "Dataset successfully downloaded and extracted to 'dataset'.\n",
      "Extracted files: ['books_data.csv', 'Books_rating.csv']\n",
      "Avvio del download del dataset...\n",
      "Dataset scaricato ed estratto con successo.\n"
     ]
    }
   ],
   "execution_count": 1
  }
 ],
 "metadata": {
  "kernelspec": {
   "display_name": "Python 3",
   "language": "python",
   "name": "python3"
  },
  "language_info": {
   "codemirror_mode": {
    "name": "ipython",
    "version": 2
   },
   "file_extension": ".py",
   "mimetype": "text/x-python",
   "name": "python",
   "nbconvert_exporter": "python",
   "pygments_lexer": "ipython2",
   "version": "2.7.6"
  }
 },
 "nbformat": 4,
 "nbformat_minor": 5
}
